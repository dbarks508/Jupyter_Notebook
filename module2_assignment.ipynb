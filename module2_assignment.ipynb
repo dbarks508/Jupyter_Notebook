{
 "cells": [
  {
   "cell_type": "code",
   "execution_count": 19,
   "id": "60652716",
   "metadata": {},
   "outputs": [
    {
     "name": "stdout",
     "output_type": "stream",
     "text": [
      "Too high...\n"
     ]
    }
   ],
   "source": [
    "secret = 4\n",
    "guess = 5\n",
    "\n",
    "if guess == secret:\n",
    "    print(\"Juuust right!\")\n",
    "elif guess > secret: \n",
    "    print(\"Too high...\")\n",
    "else:\n",
    "    print(\"Too low...\")"
   ]
  },
  {
   "cell_type": "markdown",
   "id": "347b5404",
   "metadata": {},
   "source": [
    "Things To Do 4.1"
   ]
  },
  {
   "cell_type": "code",
   "execution_count": 5,
   "id": "be3e5dc0",
   "metadata": {},
   "outputs": [
    {
     "name": "stdout",
     "output_type": "stream",
     "text": [
      "Food = cherry || small = True || green = False\n"
     ]
    }
   ],
   "source": [
    "small = False\n",
    "green = False\n",
    "foods = [\"cherry\", \"pea\", \"watermellon\", \"pumpkin\"]\n",
    "choice = \"cherry\"\n",
    "\n",
    "if choice == foods[0]:\n",
    "    small = True\n",
    "elif choice == foods[1]:\n",
    "    small = True\n",
    "    green = True\n",
    "elif choice == food[2]:\n",
    "    green = True\n",
    "\n",
    "print(f\"Food = {choice} || small = {small} || green = {green}\")"
   ]
  },
  {
   "cell_type": "markdown",
   "id": "e43ebe64",
   "metadata": {},
   "source": [
    "Things to do: 4.2"
   ]
  },
  {
   "cell_type": "code",
   "execution_count": 6,
   "id": "669bd917",
   "metadata": {},
   "outputs": [
    {
     "name": "stdout",
     "output_type": "stream",
     "text": [
      "3\n",
      "2\n",
      "1\n",
      "0\n"
     ]
    }
   ],
   "source": [
    "countdown = [3, 2, 1, 0]\n",
    "\n",
    "for x in countdown:\n",
    "    print(x)"
   ]
  },
  {
   "cell_type": "markdown",
   "id": "53fbd83d",
   "metadata": {},
   "source": [
    "Things to do: 6.1"
   ]
  },
  {
   "cell_type": "code",
   "execution_count": 10,
   "id": "caaa4f60",
   "metadata": {},
   "outputs": [
    {
     "name": "stdout",
     "output_type": "stream",
     "text": [
      "1 is too low.\n",
      "2 is too low.\n",
      "3 is too low.\n",
      "4 is too low.\n",
      "5 is too low.\n",
      "6 is too low.\n",
      "Found it!\n"
     ]
    }
   ],
   "source": [
    "guessMe = 7\n",
    "num = 1\n",
    "\n",
    "while True:\n",
    "    if num < guessMe:\n",
    "        print(f\"{num} is too low.\")\n",
    "    elif num == guessMe:\n",
    "        print(\"Found it!\")\n",
    "        break\n",
    "    else:\n",
    "        print(\"Oops!\")\n",
    "        break\n",
    "    num += 1"
   ]
  },
  {
   "cell_type": "markdown",
   "id": "f773c938",
   "metadata": {},
   "source": [
    "Things to do: 6.2"
   ]
  },
  {
   "cell_type": "code",
   "execution_count": 20,
   "id": "2fa943d5",
   "metadata": {},
   "outputs": [
    {
     "name": "stdout",
     "output_type": "stream",
     "text": [
      "1 is too low.\n",
      "2 is too low.\n",
      "3 is too low.\n",
      "4 is too low.\n",
      "5 is too low.\n",
      "6 is too low.\n",
      "Found it!\n"
     ]
    }
   ],
   "source": [
    "guessMe = 7\n",
    "number = 1\n",
    "\n",
    "for x in range(10):\n",
    "    if number < guessMe:\n",
    "        print(f\"{number} is too low.\")\n",
    "    elif number == guessMe:\n",
    "        print(\"Found it!\")\n",
    "        break\n",
    "    else:\n",
    "        print(\"Oops!\")\n",
    "        break\n",
    "    number += 1"
   ]
  },
  {
   "cell_type": "markdown",
   "id": "ab165785",
   "metadata": {},
   "source": [
    "Things to do: 6.3"
   ]
  },
  {
   "cell_type": "code",
   "execution_count": null,
   "id": "0e2e0e8f",
   "metadata": {},
   "outputs": [],
   "source": []
  }
 ],
 "metadata": {
  "kernelspec": {
   "display_name": "Python 3 (ipykernel)",
   "language": "python",
   "name": "python3"
  },
  "language_info": {
   "codemirror_mode": {
    "name": "ipython",
    "version": 3
   },
   "file_extension": ".py",
   "mimetype": "text/x-python",
   "name": "python",
   "nbconvert_exporter": "python",
   "pygments_lexer": "ipython3",
   "version": "3.9.12"
  }
 },
 "nbformat": 4,
 "nbformat_minor": 5
}
