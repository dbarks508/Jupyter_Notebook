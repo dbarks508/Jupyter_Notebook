{
 "cells": [
  {
   "cell_type": "code",
   "execution_count": 20,
   "id": "6a152307",
   "metadata": {
    "scrolled": true
   },
   "outputs": [
    {
     "name": "stdout",
     "output_type": "stream",
     "text": [
      "July 16 2022 04:03 PM\n"
     ]
    }
   ],
   "source": [
    "import time\n",
    "form = '%B %d %Y %I:%M %p'\n",
    "t = time.localtime()\n",
    "now = time.strftime(form, t)\n",
    "print(now)\n",
    "\n",
    "fout = open('today', 'wt')\n",
    "fout.write(now)\n",
    "fout.close()"
   ]
  },
  {
   "cell_type": "markdown",
   "id": "3e120a4f",
   "metadata": {},
   "source": [
    "-> 13.1"
   ]
  },
  {
   "cell_type": "code",
   "execution_count": 21,
   "id": "108b70de",
   "metadata": {},
   "outputs": [
    {
     "name": "stdout",
     "output_type": "stream",
     "text": [
      "July 16 2022 04:03 PM\n"
     ]
    }
   ],
   "source": [
    "import time\n",
    "fin = open('today', 'rt')\n",
    "today_string = fin.read()\n",
    "print(today_string)"
   ]
  },
  {
   "cell_type": "markdown",
   "id": "164d4797",
   "metadata": {},
   "source": [
    "-> 13.2"
   ]
  },
  {
   "cell_type": "code",
   "execution_count": 25,
   "id": "fe50f6b2",
   "metadata": {},
   "outputs": [
    {
     "name": "stdout",
     "output_type": "stream",
     "text": [
      "time.struct_time(tm_year=2022, tm_mon=7, tm_mday=16, tm_hour=16, tm_min=3, tm_sec=0, tm_wday=5, tm_yday=197, tm_isdst=-1)\n"
     ]
    }
   ],
   "source": [
    "import time\n",
    "fmt = '%B %d %Y %I:%M %p'\n",
    "the_date = time.strptime(today_string, fmt)\n",
    "print(the_date)"
   ]
  },
  {
   "cell_type": "markdown",
   "id": "078f8693",
   "metadata": {},
   "source": [
    "-> 13.3"
   ]
  }
 ],
 "metadata": {
  "kernelspec": {
   "display_name": "Python 3 (ipykernel)",
   "language": "python",
   "name": "python3"
  },
  "language_info": {
   "codemirror_mode": {
    "name": "ipython",
    "version": 3
   },
   "file_extension": ".py",
   "mimetype": "text/x-python",
   "name": "python",
   "nbconvert_exporter": "python",
   "pygments_lexer": "ipython3",
   "version": "3.9.12"
  }
 },
 "nbformat": 4,
 "nbformat_minor": 5
}
