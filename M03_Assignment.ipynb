{
 "cells": [
  {
   "cell_type": "code",
   "execution_count": 14,
   "id": "7277c9b4",
   "metadata": {},
   "outputs": [
    {
     "name": "stdout",
     "output_type": "stream",
     "text": [
      "['mozarella', 'cinderella', 'salmonella']\n"
     ]
    }
   ],
   "source": [
    "things = ['mozarella', 'cinderella', 'salmonella']\n",
    "print(things)"
   ]
  },
  {
   "cell_type": "markdown",
   "id": "6052cf01",
   "metadata": {},
   "source": [
    "=> 7.4"
   ]
  },
  {
   "cell_type": "code",
   "execution_count": 15,
   "id": "adc5255a",
   "metadata": {},
   "outputs": [
    {
     "name": "stdout",
     "output_type": "stream",
     "text": [
      "['mozarella', 'Cinderella', 'salmonella']\n"
     ]
    }
   ],
   "source": [
    "for item in things:\n",
    "    if item == 'cinderella':\n",
    "        things[things.index(item)] = item.capitalize()\n",
    "print(things)"
   ]
  },
  {
   "cell_type": "markdown",
   "id": "384b63ba",
   "metadata": {},
   "source": [
    "=> 7.5 Yes, this changed the element."
   ]
  },
  {
   "cell_type": "code",
   "execution_count": 17,
   "id": "7de4fbab",
   "metadata": {},
   "outputs": [
    {
     "name": "stdout",
     "output_type": "stream",
     "text": [
      "['MOZARELLA', 'Cinderella', 'salmonella']\n"
     ]
    }
   ],
   "source": [
    "for item in things:\n",
    "    if item == 'mozarella':\n",
    "        things[things.index(item)] = item.upper()\n",
    "print(things)"
   ]
  },
  {
   "cell_type": "markdown",
   "id": "15923a95",
   "metadata": {},
   "source": [
    "=> 7.6"
   ]
  },
  {
   "cell_type": "code",
   "execution_count": 18,
   "id": "1c745ce5",
   "metadata": {},
   "outputs": [
    {
     "name": "stdout",
     "output_type": "stream",
     "text": [
      "['MOZARELLA', 'Cinderella']\n"
     ]
    }
   ],
   "source": [
    "for item in things:\n",
    "    if item == 'salmonella':\n",
    "        del things[things.index(item)] \n",
    "print(things)"
   ]
  },
  {
   "cell_type": "markdown",
   "id": "86d559d8",
   "metadata": {},
   "source": [
    "=> 7.7"
   ]
  },
  {
   "cell_type": "code",
   "execution_count": 20,
   "id": "156eae27",
   "metadata": {},
   "outputs": [
    {
     "data": {
      "text/plain": [
       "['Harry', 'Ron', 'Hermione']"
      ]
     },
     "execution_count": 20,
     "metadata": {},
     "output_type": "execute_result"
    }
   ],
   "source": [
    "def good():\n",
    "    return ['Harry', 'Ron', 'Hermione']\n",
    "\n",
    "good()"
   ]
  },
  {
   "cell_type": "markdown",
   "id": "538d9933",
   "metadata": {},
   "source": [
    "=> 9.1"
   ]
  },
  {
   "cell_type": "code",
   "execution_count": 51,
   "id": "fb1aa3e6",
   "metadata": {},
   "outputs": [
    {
     "name": "stdout",
     "output_type": "stream",
     "text": [
      "The third value is:  5\n"
     ]
    }
   ],
   "source": [
    "def get_odds():\n",
    "    for number in range(10):\n",
    "        if number % 2 == 1:\n",
    "            yield number\n",
    "    \n",
    "ranger = get_odds()\n",
    "    \n",
    "oddsList = []\n",
    "for item in ranger:\n",
    "    oddsList.append(item)\n",
    "\n",
    "print('The third value is: ', oddsList[2])"
   ]
  },
  {
   "cell_type": "markdown",
   "id": "06fdbd8e",
   "metadata": {},
   "source": [
    "=> 9.2"
   ]
  },
  {
   "cell_type": "code",
   "execution_count": null,
   "id": "daa0c00f",
   "metadata": {},
   "outputs": [],
   "source": []
  }
 ],
 "metadata": {
  "kernelspec": {
   "display_name": "Python 3 (ipykernel)",
   "language": "python",
   "name": "python3"
  },
  "language_info": {
   "codemirror_mode": {
    "name": "ipython",
    "version": 3
   },
   "file_extension": ".py",
   "mimetype": "text/x-python",
   "name": "python",
   "nbconvert_exporter": "python",
   "pygments_lexer": "ipython3",
   "version": "3.9.12"
  }
 },
 "nbformat": 4,
 "nbformat_minor": 5
}
